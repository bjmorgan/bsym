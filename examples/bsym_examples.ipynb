{
 "cells": [
  {
   "cell_type": "markdown",
   "metadata": {
    "deletable": true,
    "editable": true
   },
   "source": [
    "# `bsym` – a basic symmetry module\n",
    "\n",
    "`bsym` is a basic Python symmetry module. The module consists of some core classes that describe the symmetry properties and arrangements of objects, and functions for performing symmetry-dependent operations. \n",
    "\n",
    "API documentation is [here](http://bsym.readthedocs.io)."
   ]
  },
  {
   "cell_type": "markdown",
   "metadata": {
    "deletable": true,
    "editable": true
   },
   "source": [
    "## Overview\n",
    "\n",
    "The central object described by `bsym` is the **configuration space**. This defines a vector space that can be occupied by other objects. For example; the three points $a, b, c$ defined by an equilateral triangle,\n",
    "\n",
    "<img src='figures/triangular_configuration_space.pdf'>\n",
    "\n",
    "which can be described by a length 3 vector:\n",
    "\n",
    "\\begin{pmatrix}a\\\\b\\\\c\\end{pmatrix}\n",
    "\n",
    "If these points can be coloured black or white, then we can define a **configuration** for each different colouring (0 for white, 1 for black), e.g. \n",
    "\n",
    "<img src='figures/triangular_configuration_example_1.pdf'>\n",
    "\n",
    "with the corresponding vector\n",
    "\n",
    "\\begin{pmatrix}1\\\\1\\\\0\\end{pmatrix}\n",
    "\n",
    "A specific **configuration** therefore defines how objects are distributed within a particular **configuration space**.\n",
    "\n",
    "The symmetry relationships between the different vectors in a **configuration space** are described by **symmetry operations**. A **symmetry operation** describes a transformation of a **configuration space** that leaves it indistinguishable. Each **symmetry operation** can be describes as a matrix that maps the vectors in a **configuration space** onto each other, e.g. in the case of the equiateral triangle the simplest **symmetry operation** is the identity, $E$, which leaves every corner unchanged, and can be represented by the matrix \n",
    "\n",
    "\\begin{equation}\n",
    "E=\\begin{pmatrix}1 & 0 & 0\\\\0 & 1 & 0 \\\\ 0 & 0 & 1\\end{pmatrix}\n",
    "\\end{equation}\n",
    "\n",
    "For this triangular example, there are other **symmetry operations**, including reflections, $\\sigma$ and rotations, $C_n$:\n",
    "\n",
    "<img src='figures/triangular_example_symmetry_operations.pdf'>\n",
    "\n",
    "In this example reflection operation, $b$ is mapped to $c$; $b\\to c$, and $c$ is mapped to $b$; $b\\to c$. \n",
    "\n",
    "The matrix representation of this **symmetry operation** is\n",
    "\n",
    "\\begin{equation}\n",
    "\\sigma_\\mathrm{a}=\\begin{pmatrix}1 & 0 & 0\\\\0 & 0 & 1 \\\\ 0 & 1 & 0\\end{pmatrix}\n",
    "\\end{equation}\n",
    "\n",
    "For the example rotation operation, $a\\to b$, $b\\to c$, and $c\\to a$, with matrix representation\n",
    "\n",
    "\\begin{equation}\n",
    "C_3=\\begin{pmatrix}0 & 0 & 1\\\\ 1 & 0 & 0 \\\\ 0 & 1 & 0\\end{pmatrix}\n",
    "\\end{equation}\n",
    "\n",
    "Using this matrix and vector notation, the effect of a symmetry operation on a specific **configuration** can be calculated as the [matrix product](https://en.wikipedia.org/wiki/Matrix_multiplication#Square_matrix_and_column_vector) of the **symmetry operation** matrix and the **configuration** vector:\n",
    "\n",
    "<img src='figures/triangular_rotation_operation.pdf'>\n",
    "\n",
    "In matrix notation this is represented as\n",
    "\n",
    "\\begin{equation}\n",
    "\\begin{pmatrix}0\\\\1\\\\1\\end{pmatrix} = \\begin{pmatrix}0 & 0 & 1\\\\ 1 & 0 & 0 \\\\ 0 & 1 & \n",
    "0\\end{pmatrix}\\begin{pmatrix}1\\\\1\\\\0\\end{pmatrix}\n",
    "\\end{equation}\n",
    "\n",
    "or more compactly\n",
    "\n",
    "\\begin{equation}\n",
    "c_\\mathrm{f} = C_3 c_\\mathrm{i}.\n",
    "\\end{equation}\n",
    "\n",
    "The set of all symmetry operations for a particular **configuration space** is a **group**. \n",
    "\n",
    "For an equilateral triangle this group is the $C_{3v}$ [point group](https://en.wikipedia.org/wiki/Point_group), which contains six symmetry operations: the identity, three reflections (each with a mirror plane bisecting the triangle and passing through $a$, $b$, or $c$ respectively) and two rotations (120° clockwise and counterclockwise).\n",
    "\n",
    "\\begin{equation}\n",
    "C_{3v} = \\left\\{ E, \\sigma_\\mathrm{a}, \\sigma_\\mathrm{b}, \\sigma_\\mathrm{c}, C_3, C_3^\\prime \\right\\}\n",
    "\\end{equation}\n"
   ]
  },
  {
   "cell_type": "markdown",
   "metadata": {},
   "source": [
    "## The SymmetryOperation class\n",
    "\n",
    "A **symmetry operation** is represented by an instance of the `SymmetryOperation` class."
   ]
  },
  {
   "cell_type": "code",
   "execution_count": 1,
   "metadata": {
    "collapsed": false,
    "deletable": true,
    "editable": true
   },
   "outputs": [],
   "source": [
    "from bsym import SymmetryOperation"
   ]
  },
  {
   "cell_type": "markdown",
   "metadata": {},
   "source": [
    "Create a `SymmetryOperation` object for `E`."
   ]
  },
  {
   "cell_type": "code",
   "execution_count": 2,
   "metadata": {
    "collapsed": false
   },
   "outputs": [
    {
     "data": {
      "text/plain": [
       "SymmetryOperation\n",
       "label(---)\n",
       "matrix([[1, 0, 0],\n",
       "        [0, 1, 0],\n",
       "        [0, 0, 1]])"
      ]
     },
     "execution_count": 2,
     "metadata": {},
     "output_type": "execute_result"
    }
   ],
   "source": [
    "SymmetryOperation([[ 1, 0, 0 ], \n",
    "                   [ 0, 1, 0 ], \n",
    "                   [ 0, 0, 1 ]])"
   ]
  },
  {
   "cell_type": "markdown",
   "metadata": {},
   "source": [
    "A `SymmetryOperation` object records the matrix representation of the **symmetry operation** and an optional label. We can provide the label during creation:"
   ]
  },
  {
   "cell_type": "code",
   "execution_count": 3,
   "metadata": {
    "collapsed": false
   },
   "outputs": [
    {
     "data": {
      "text/plain": [
       "SymmetryOperation\n",
       "label(E)\n",
       "matrix([[1, 0, 0],\n",
       "        [0, 1, 0],\n",
       "        [0, 0, 1]])"
      ]
     },
     "execution_count": 3,
     "metadata": {},
     "output_type": "execute_result"
    }
   ],
   "source": [
    "SymmetryOperation([[ 1, 0, 0 ], \n",
    "                   [ 0, 1, 0 ], \n",
    "                   [ 0, 0, 1 ]], label='E' )"
   ]
  },
  {
   "cell_type": "markdown",
   "metadata": {},
   "source": [
    "or set it afterwards:"
   ]
  },
  {
   "cell_type": "code",
   "execution_count": 4,
   "metadata": {
    "collapsed": false
   },
   "outputs": [
    {
     "data": {
      "text/plain": [
       "SymmetryOperation\n",
       "label(E)\n",
       "matrix([[1, 0, 0],\n",
       "        [0, 1, 0],\n",
       "        [0, 0, 1]])"
      ]
     },
     "execution_count": 4,
     "metadata": {},
     "output_type": "execute_result"
    }
   ],
   "source": [
    "e = SymmetryOperation([[ 1, 0, 0 ], \n",
    "                       [ 0, 1, 0 ], \n",
    "                       [ 0, 0, 1 ]])\n",
    "e.label = 'E'\n",
    "e"
   ]
  },
  {
   "cell_type": "markdown",
   "metadata": {},
   "source": [
    "TODO: explain vector representation of symmetry operations"
   ]
  },
  {
   "cell_type": "code",
   "execution_count": 5,
   "metadata": {
    "collapsed": false
   },
   "outputs": [
    {
     "data": {
      "text/plain": [
       "SymmetryOperation\n",
       "label(E)\n",
       "matrix([[1, 0, 0],\n",
       "        [0, 1, 0],\n",
       "        [0, 0, 1]])"
      ]
     },
     "execution_count": 5,
     "metadata": {},
     "output_type": "execute_result"
    }
   ],
   "source": [
    "e = SymmetryOperation.from_vector( [ 1, 2, 3 ], label='E' )\n",
    "e"
   ]
  },
  {
   "cell_type": "markdown",
   "metadata": {},
   "source": [
    "TODO: explain inversion of symmetry operations"
   ]
  },
  {
   "cell_type": "code",
   "execution_count": 6,
   "metadata": {
    "collapsed": false
   },
   "outputs": [],
   "source": [
    "c_3     = SymmetryOperation.from_vector( [ 2, 3, 1 ], label='C3' )\n",
    "c_3_inv = SymmetryOperation.from_vector( [ 3, 1, 2 ], label='C3_inv' )"
   ]
  },
  {
   "cell_type": "code",
   "execution_count": 7,
   "metadata": {
    "collapsed": false
   },
   "outputs": [
    {
     "name": "stdout",
     "output_type": "stream",
     "text": [
      "SymmetryOperation\n",
      "label(C3)\n",
      "matrix([[0, 0, 1],\n",
      "        [1, 0, 0],\n",
      "        [0, 1, 0]])\n",
      "SymmetryOperation\n",
      "label(C3_inv)\n",
      "matrix([[0, 1, 0],\n",
      "        [0, 0, 1],\n",
      "        [1, 0, 0]])\n"
     ]
    }
   ],
   "source": [
    "print( c_3 )\n",
    "print( c_3_inv )"
   ]
  },
  {
   "cell_type": "markdown",
   "metadata": {},
   "source": [
    "Because `c_3_inv` is the inverse of `c_3` it can also be generated using the `.invert()` method"
   ]
  },
  {
   "cell_type": "code",
   "execution_count": 8,
   "metadata": {
    "collapsed": false
   },
   "outputs": [
    {
     "data": {
      "text/plain": [
       "SymmetryOperation\n",
       "label(---)\n",
       "matrix([[0, 1, 0],\n",
       "        [0, 0, 1],\n",
       "        [1, 0, 0]])"
      ]
     },
     "execution_count": 8,
     "metadata": {},
     "output_type": "execute_result"
    }
   ],
   "source": [
    "c_3.invert()"
   ]
  },
  {
   "cell_type": "code",
   "execution_count": 9,
   "metadata": {
    "collapsed": false
   },
   "outputs": [
    {
     "data": {
      "text/plain": [
       "SymmetryOperation\n",
       "label(C3_inv)\n",
       "matrix([[0, 1, 0],\n",
       "        [0, 0, 1],\n",
       "        [1, 0, 0]])"
      ]
     },
     "execution_count": 9,
     "metadata": {},
     "output_type": "execute_result"
    }
   ],
   "source": [
    "c_3.invert( label= 'C3_inv')"
   ]
  },
  {
   "cell_type": "markdown",
   "metadata": {},
   "source": [
    "Note the resulting `SymmetryOperation` does not have a label defined. This can be set directly, or by chaining the `.set_label()` method, e.g."
   ]
  },
  {
   "cell_type": "code",
   "execution_count": 10,
   "metadata": {
    "collapsed": false
   },
   "outputs": [
    {
     "data": {
      "text/plain": [
       "SymmetryOperation\n",
       "label(C3_inv)\n",
       "matrix([[0, 1, 0],\n",
       "        [0, 0, 1],\n",
       "        [1, 0, 0]])"
      ]
     },
     "execution_count": 10,
     "metadata": {},
     "output_type": "execute_result"
    }
   ],
   "source": [
    "c_3.invert().set_label( 'C3_inv' )"
   ]
  },
  {
   "cell_type": "markdown",
   "metadata": {},
   "source": [
    "Check that `c_3_inv` is the inverse of `c_3` (also demonstrate multiplication of `SymmetryOperation` objects)."
   ]
  },
  {
   "cell_type": "code",
   "execution_count": 11,
   "metadata": {
    "collapsed": false
   },
   "outputs": [
    {
     "data": {
      "text/plain": [
       "SymmetryOperation\n",
       "label(---)\n",
       "matrix([[1, 0, 0],\n",
       "        [0, 1, 0],\n",
       "        [0, 0, 1]])"
      ]
     },
     "execution_count": 11,
     "metadata": {},
     "output_type": "execute_result"
    }
   ],
   "source": [
    "c_3 * c_3.invert()"
   ]
  },
  {
   "cell_type": "code",
   "execution_count": 12,
   "metadata": {
    "collapsed": false
   },
   "outputs": [
    {
     "data": {
      "text/plain": [
       "matrix([[ True,  True,  True],\n",
       "        [ True,  True,  True],\n",
       "        [ True,  True,  True]], dtype=bool)"
      ]
     },
     "execution_count": 12,
     "metadata": {},
     "output_type": "execute_result"
    }
   ],
   "source": [
    "( c_3 * c_3.invert() ).matrix == e.matrix"
   ]
  },
  {
   "cell_type": "code",
   "execution_count": 13,
   "metadata": {
    "collapsed": false
   },
   "outputs": [],
   "source": [
    "# construct SymmetryOperations for C_3v group\n",
    "# TODO add pictures for the full spacegroup\n",
    "c_3_inv = c_3.invert( label='C3_inv' )\n",
    "sigma_a = SymmetryOperation.from_vector( [ 1, 3, 2 ], label='S_a' )\n",
    "sigma_b = SymmetryOperation.from_vector( [ 3, 2, 1 ], label='S_b' )\n",
    "sigma_c = SymmetryOperation.from_vector( [ 2, 1, 3 ], label='S_c' )"
   ]
  },
  {
   "cell_type": "markdown",
   "metadata": {},
   "source": [
    "## Symmetry Groups\n",
    "\n",
    "In `bsym`, `SymmetryGroup` objects represent collections of `SymmetryOperation` objects. Note that a `SymmetryGroup` is not required to contain _all_ the symmetry operations of a particular **configuration space**, and therefore may not describe a complete mathematical <a href=\"https://en.wikipedia.org/wiki/Group_(mathematics)#Definition\">group</a>.\n",
    "\n",
    "For convenience `bsym` has `PointGroup` and `SpaceGroup` classes, that are equivalent to the `SymmetryGroup` parent class."
   ]
  },
  {
   "cell_type": "code",
   "execution_count": 14,
   "metadata": {
    "collapsed": false
   },
   "outputs": [],
   "source": [
    "from bsym import PointGroup"
   ]
  },
  {
   "cell_type": "code",
   "execution_count": 15,
   "metadata": {
    "collapsed": false
   },
   "outputs": [],
   "source": [
    "c3v = PointGroup( [ e, c_3, c_3_inv, sigma_a, sigma_b, sigma_c ] )"
   ]
  },
  {
   "cell_type": "code",
   "execution_count": 16,
   "metadata": {
    "collapsed": false
   },
   "outputs": [
    {
     "data": {
      "text/plain": [
       "PointGroup\n",
       "E\t[1, 2, 3]\n",
       "C3\t[3, 1, 2]\n",
       "C3_inv\t[2, 3, 1]\n",
       "S_a\t[1, 3, 2]\n",
       "S_b\t[3, 2, 1]\n",
       "S_c\t[2, 1, 3]"
      ]
     },
     "execution_count": 16,
     "metadata": {},
     "output_type": "execute_result"
    }
   ],
   "source": [
    "c3v"
   ]
  },
  {
   "cell_type": "code",
   "execution_count": 17,
   "metadata": {
    "collapsed": true
   },
   "outputs": [],
   "source": [
    "from bsym import ConfigurationSpace"
   ]
  },
  {
   "cell_type": "code",
   "execution_count": 18,
   "metadata": {
    "collapsed": false
   },
   "outputs": [],
   "source": [
    "c = ConfigurationSpace( objects=['a', 'b', 'c' ], symmetry_group=c3v )"
   ]
  },
  {
   "cell_type": "code",
   "execution_count": 19,
   "metadata": {
    "collapsed": false
   },
   "outputs": [
    {
     "data": {
      "text/plain": [
       "ConfigurationSpace\n",
       "['a', 'b', 'c']\n",
       "E\t[1, 2, 3]\n",
       "C3\t[3, 1, 2]\n",
       "C3_inv\t[2, 3, 1]\n",
       "S_a\t[1, 3, 2]\n",
       "S_b\t[3, 2, 1]\n",
       "S_c\t[2, 1, 3]"
      ]
     },
     "execution_count": 19,
     "metadata": {},
     "output_type": "execute_result"
    }
   ],
   "source": [
    "c"
   ]
  },
  {
   "cell_type": "markdown",
   "metadata": {},
   "source": [
    "# Symmetry operation operating on a Configuration"
   ]
  },
  {
   "cell_type": "code",
   "execution_count": 20,
   "metadata": {
    "collapsed": false
   },
   "outputs": [
    {
     "data": {
      "text/plain": [
       "Configuration([1, 1, 0])"
      ]
     },
     "execution_count": 20,
     "metadata": {},
     "output_type": "execute_result"
    }
   ],
   "source": [
    "from bsym import Configuration\n",
    "c1 = Configuration.from_tuple( ( 1, 1, 0 ) )\n",
    "c1"
   ]
  },
  {
   "cell_type": "code",
   "execution_count": 21,
   "metadata": {
    "collapsed": false
   },
   "outputs": [
    {
     "data": {
      "text/plain": [
       "Configuration([0, 1, 1])"
      ]
     },
     "execution_count": 21,
     "metadata": {},
     "output_type": "execute_result"
    }
   ],
   "source": [
    "c_3 * c1"
   ]
  },
  {
   "cell_type": "code",
   "execution_count": 22,
   "metadata": {
    "collapsed": false
   },
   "outputs": [
    {
     "data": {
      "text/plain": [
       "Configuration([0, 1, 1])"
      ]
     },
     "execution_count": 22,
     "metadata": {},
     "output_type": "execute_result"
    }
   ],
   "source": [
    "c_3.operate_on( c1 )"
   ]
  },
  {
   "cell_type": "markdown",
   "metadata": {},
   "source": [
    "## Similarity Transforms\n",
    "\n",
    "\\begin{equation}\n",
    "S^{-1}MS\n",
    "\\end{equation}"
   ]
  },
  {
   "cell_type": "code",
   "execution_count": 23,
   "metadata": {
    "collapsed": false
   },
   "outputs": [
    {
     "data": {
      "text/plain": [
       "SymmetryOperation\n",
       "label(S_a)\n",
       "matrix([[1, 0, 0],\n",
       "        [0, 0, 1],\n",
       "        [0, 1, 0]])"
      ]
     },
     "execution_count": 23,
     "metadata": {},
     "output_type": "execute_result"
    }
   ],
   "source": [
    "sigma_a"
   ]
  },
  {
   "cell_type": "code",
   "execution_count": 24,
   "metadata": {
    "collapsed": false
   },
   "outputs": [
    {
     "data": {
      "text/plain": [
       "SymmetryOperation\n",
       "label(C3)\n",
       "matrix([[0, 0, 1],\n",
       "        [1, 0, 0],\n",
       "        [0, 1, 0]])"
      ]
     },
     "execution_count": 24,
     "metadata": {},
     "output_type": "execute_result"
    }
   ],
   "source": [
    "c_3"
   ]
  },
  {
   "cell_type": "code",
   "execution_count": 25,
   "metadata": {
    "collapsed": false
   },
   "outputs": [
    {
     "data": {
      "text/plain": [
       "SymmetryOperation\n",
       "label(---)\n",
       "matrix([[0, 1, 0],\n",
       "        [1, 0, 0],\n",
       "        [0, 0, 1]])"
      ]
     },
     "execution_count": 25,
     "metadata": {},
     "output_type": "execute_result"
    }
   ],
   "source": [
    "sigma_a.similarity_transform( c_3 )"
   ]
  },
  {
   "cell_type": "code",
   "execution_count": 26,
   "metadata": {
    "collapsed": false
   },
   "outputs": [
    {
     "data": {
      "text/plain": [
       "SymmetryOperation\n",
       "label(S_c)\n",
       "matrix([[0, 1, 0],\n",
       "        [1, 0, 0],\n",
       "        [0, 0, 1]])"
      ]
     },
     "execution_count": 26,
     "metadata": {},
     "output_type": "execute_result"
    }
   ],
   "source": [
    "sigma_c"
   ]
  },
  {
   "cell_type": "markdown",
   "metadata": {},
   "source": [
    "## Calculating all symmetry inequivalent permutations."
   ]
  },
  {
   "cell_type": "code",
   "execution_count": 27,
   "metadata": {
    "collapsed": false
   },
   "outputs": [
    {
     "data": {
      "text/plain": [
       "ConfigurationSpace\n",
       "['a', 'b', 'c']\n",
       "E\t[1, 2, 3]\n",
       "C3\t[3, 1, 2]\n",
       "C3_inv\t[2, 3, 1]\n",
       "S_a\t[1, 3, 2]\n",
       "S_b\t[3, 2, 1]\n",
       "S_c\t[2, 1, 3]"
      ]
     },
     "execution_count": 27,
     "metadata": {},
     "output_type": "execute_result"
    }
   ],
   "source": [
    "c"
   ]
  },
  {
   "cell_type": "code",
   "execution_count": 28,
   "metadata": {
    "collapsed": false
   },
   "outputs": [
    {
     "data": {
      "text/plain": [
       "[Configuration([0, 1, 2])]"
      ]
     },
     "execution_count": 28,
     "metadata": {},
     "output_type": "execute_result"
    }
   ],
   "source": [
    "c.unique_configurations( {1:1,0:1,2:1} )"
   ]
  },
  {
   "cell_type": "markdown",
   "metadata": {},
   "source": [
    "Need to do this on a system where the result is not a single configuration."
   ]
  },
  {
   "cell_type": "code",
   "execution_count": 29,
   "metadata": {
    "collapsed": false
   },
   "outputs": [],
   "source": [
    "c = ConfigurationSpace( [ 'a', 'b', 'c', 'd' ] ) # four vector configuration space"
   ]
  },
  {
   "cell_type": "code",
   "execution_count": 30,
   "metadata": {
    "collapsed": false
   },
   "outputs": [
    {
     "data": {
      "text/plain": [
       "ConfigurationSpace\n",
       "['a', 'b', 'c', 'd']\n",
       "E\t[1, 2, 3, 4]"
      ]
     },
     "execution_count": 30,
     "metadata": {},
     "output_type": "execute_result"
    }
   ],
   "source": [
    "c \n",
    "# Initialisation of the ConfigurationSpace without a SymmetryGroup \n",
    "# defaults to only having the identity as a symmetry operation"
   ]
  },
  {
   "cell_type": "code",
   "execution_count": 31,
   "metadata": {
    "collapsed": false
   },
   "outputs": [
    {
     "data": {
      "text/plain": [
       "[Configuration([0, 0, 0, 1]),\n",
       " Configuration([0, 0, 1, 0]),\n",
       " Configuration([0, 1, 0, 0]),\n",
       " Configuration([1, 0, 0, 0])]"
      ]
     },
     "execution_count": 31,
     "metadata": {},
     "output_type": "execute_result"
    }
   ],
   "source": [
    "c.unique_configurations( {1:1, 0:3} )"
   ]
  },
  {
   "cell_type": "code",
   "execution_count": 32,
   "metadata": {
    "collapsed": false
   },
   "outputs": [
    {
     "data": {
      "text/plain": [
       "SymmetryGroup\n",
       "E\t[1, 2, 3, 4]\n",
       "sigma\t[4, 3, 2, 1]"
      ]
     },
     "execution_count": 32,
     "metadata": {},
     "output_type": "execute_result"
    }
   ],
   "source": [
    "c.symmetry_group.append( SymmetryOperation.from_vector( [ 4,3,2,1 ], label='sigma' ) )"
   ]
  },
  {
   "cell_type": "code",
   "execution_count": 33,
   "metadata": {
    "collapsed": false
   },
   "outputs": [
    {
     "data": {
      "text/plain": [
       "[Configuration([0, 0, 0, 1]), Configuration([0, 0, 1, 0])]"
      ]
     },
     "execution_count": 33,
     "metadata": {},
     "output_type": "execute_result"
    }
   ],
   "source": [
    "c.unique_configurations( {1:1, 0:3} )"
   ]
  },
  {
   "cell_type": "code",
   "execution_count": 34,
   "metadata": {
    "collapsed": false
   },
   "outputs": [
    {
     "data": {
      "text/plain": [
       "[Configuration([0, 0, 1, 2]),\n",
       " Configuration([0, 0, 2, 1]),\n",
       " Configuration([0, 1, 0, 2]),\n",
       " Configuration([0, 1, 2, 0]),\n",
       " Configuration([0, 2, 0, 1]),\n",
       " Configuration([1, 0, 0, 2])]"
      ]
     },
     "execution_count": 34,
     "metadata": {},
     "output_type": "execute_result"
    }
   ],
   "source": [
    "c.unique_configurations( {1:1, 2:1, 0:2} )"
   ]
  },
  {
   "cell_type": "code",
   "execution_count": 35,
   "metadata": {
    "collapsed": false
   },
   "outputs": [
    {
     "data": {
      "text/plain": [
       "ConfigurationSpace\n",
       "['a', 'b', 'c', 'd']\n",
       "E\t[1, 2, 3, 4]\n",
       "C4\t[4, 1, 2, 3]\n",
       "C4i\t[2, 3, 4, 1]\n",
       "C2\t[2, 3, 4, 1]\n",
       "s_x\t[4, 3, 2, 1]\n",
       "s_y\t[2, 1, 4, 3]"
      ]
     },
     "execution_count": 35,
     "metadata": {},
     "output_type": "execute_result"
    }
   ],
   "source": [
    "# What if this represents points on a square?\n",
    "c = ConfigurationSpace( [ 'a', 'b', 'c', 'd' ] ) # four vector configuration space\n",
    "c.symmetry_group.append( SymmetryOperation.from_vector( [ 2, 3, 4, 1 ], label='C4' ) )\n",
    "c.symmetry_group.append( SymmetryOperation.from_vector( [ 4, 1, 2, 3 ], label='C4i' ) )\n",
    "c.symmetry_group.append( SymmetryOperation.from_vector( [ 4, 1, 2, 3 ], label='C2' ) )\n",
    "c.symmetry_group.append( SymmetryOperation.from_vector( [ 4, 3, 2, 1 ], label='s_x' ) )\n",
    "c.symmetry_group.append( SymmetryOperation.from_vector( [ 2, 1, 4, 3 ], label='s_y' ) )\n",
    "c"
   ]
  },
  {
   "cell_type": "code",
   "execution_count": 36,
   "metadata": {
    "collapsed": false
   },
   "outputs": [
    {
     "data": {
      "text/plain": [
       "[Configuration([0, 0, 1, 1]), Configuration([0, 1, 0, 1])]"
      ]
     },
     "execution_count": 36,
     "metadata": {},
     "output_type": "execute_result"
    }
   ],
   "source": [
    "c.unique_configurations( {1:2, 0:2} )"
   ]
  },
  {
   "cell_type": "code",
   "execution_count": null,
   "metadata": {
    "collapsed": true
   },
   "outputs": [],
   "source": []
  }
 ],
 "metadata": {
  "kernelspec": {
   "display_name": "Python 3",
   "language": "python",
   "name": "python3"
  },
  "language_info": {
   "codemirror_mode": {
    "name": "ipython",
    "version": 3
   },
   "file_extension": ".py",
   "mimetype": "text/x-python",
   "name": "python",
   "nbconvert_exporter": "python",
   "pygments_lexer": "ipython3",
   "version": "3.6.1"
  }
 },
 "nbformat": 4,
 "nbformat_minor": 2
}
