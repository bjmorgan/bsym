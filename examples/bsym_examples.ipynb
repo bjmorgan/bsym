{
 "cells": [
  {
   "cell_type": "markdown",
   "metadata": {
    "deletable": true,
    "editable": true
   },
   "source": [
    "# `bsym` – a basic symmetry module\n",
    "\n",
    "`bsym` is a basic Python symmetry module. The module consists of some core classes that describe the symmetry properties and arrangements of objects, and functions for performing symmetry-dependent operations. \n",
    "\n",
    "API documentation is [here](http://bsym.readthedocs.io)."
   ]
  },
  {
   "cell_type": "markdown",
   "metadata": {
    "deletable": true,
    "editable": true
   },
   "source": [
    "## Overview\n",
    "\n",
    "The central object described by `bsym` is the **configuration space**. This defines a vector space that can be occupied by other objects. For example; the three points $a, b, c$ defined by an equilateral triangle,\n",
    "\n",
    "<img src='figures/triangular_configuration_space.pdf'>\n",
    "\n",
    "which can be described by a length 3 vector:\n",
    "\n",
    "\\begin{pmatrix}a\\\\b\\\\c\\end{pmatrix}\n",
    "\n",
    "If these points can be coloured black or white, then we can define a **configuration** for each different colouring (0 for white, 1 for black), e.g. \n",
    "\n",
    "<img src='figures/triangular_configuration_example_1.pdf'>\n",
    "\n",
    "with the corresponding vector\n",
    "\n",
    "\\begin{pmatrix}1\\\\1\\\\0\\end{pmatrix}\n",
    "\n",
    "A specific **configuration** therefore defines how objects are distributed within a particular **configuration space**.\n",
    "\n",
    "The symmetry relationships between the different vectors in a **configuration space** are described by **symmetry operations**. A **symmetry operation** describes a transformation of a **configuration space** that leaves it indistinguishable. Each **symmetry operation** can be describes as a matrix that maps the vectors in a **configuration space** onto each other, e.g. in the case of the equiateral triangle the simplest **symmetry operation** is the identity, $E$, which leaves every corner unchanged, and can be represented by the matrix \n",
    "\n",
    "\\begin{equation}\n",
    "E=\\begin{pmatrix}1 & 0 & 0\\\\0 & 1 & 0 \\\\ 0 & 0 & 1\\end{pmatrix}\n",
    "\\end{equation}\n",
    "\n",
    "For this triangular example, there are other **symmetry operations**, including reflections, $\\sigma$ and rotations, $C_n$:\n",
    "\n",
    "<img src='figures/triangular_example_symmetry_operations.pdf'>\n",
    "\n",
    "In this example reflection operation, $b$ is mapped to $c$; $b\\to c$, and $c$ is mapped to $b$; $b\\to c$. \n",
    "\n",
    "The matrix representation of this **symmetry operation** is\n",
    "\n",
    "\\begin{equation}\n",
    "\\sigma_\\mathrm{a}=\\begin{pmatrix}1 & 0 & 0\\\\0 & 0 & 1 \\\\ 0 & 1 & 0\\end{pmatrix}\n",
    "\\end{equation}\n",
    "\n",
    "For the example rotation operation, $a\\to b$, $b\\to c$, and $c\\to a$, with matrix representation\n",
    "\n",
    "\\begin{equation}\n",
    "\\sigma_\\mathrm{a}=\\begin{pmatrix}0 & 0 & 1\\\\ 1 & 0 & 0 \\\\ 0 & 1 & 0\\end{pmatrix}\n",
    "\\end{equation}\n",
    "\n",
    "Using this matrix and vector notation, the effect of a symmetry operation on a specific **configuration** can be calculated as the [matrix product](https://en.wikipedia.org/wiki/Matrix_multiplication#Square_matrix_and_column_vector) of the **symmetry operation** matrix and the **configuration** vector:\n",
    "\n",
    "<img src='figures/triangular_rotation_operation.pdf'>\n",
    "\n",
    "In matrix notation this is represented as\n",
    "\n",
    "\\begin{equation}\n",
    "\\begin{pmatrix}0\\\\1\\\\1\\end{pmatrix} = \\begin{pmatrix}0 & 0 & 1\\\\ 1 & 0 & 0 \\\\ 0 & 1 & \n",
    "0\\end{pmatrix}\\begin{pmatrix}1\\\\1\\\\0\\end{pmatrix}\n",
    "\\end{equation}\n",
    "\n",
    "or more compactly\n",
    "\n",
    "\\begin{equation}\n",
    "c_\\mathrm{f} = C_3 c_\\mathrm{i}.\n",
    "\\end{equation}\n",
    "\n",
    "The set of all symmetry operations for a particular **configuration space** is a **group**. \n",
    "\n",
    "For an equilateral triangle this group is the $C_{3v}$ [point group](https://en.wikipedia.org/wiki/Point_group), which contains six symmetry operations: the identity, three reflections (each with a mirror plane bisecting the triangle and passing through $a$, $b$, or $c$ respectively) and two rotations (120° clockwise and counterclockwise).\n",
    "\n",
    "\\begin{equation}\n",
    "C_{3v} = \\left\\{ E, \\sigma_\\mathrm{a}, \\sigma_\\mathrm{b}, \\sigma_\\mathrm{c}, C_3, C_3^\\prime \\right\\}\n",
    "\\end{equation}\n"
   ]
  },
  {
   "cell_type": "markdown",
   "metadata": {},
   "source": [
    "## The SymmetryOperation class\n",
    "\n",
    "**Symmetry operations** are represented by instances of the `SymmetryOperation` class."
   ]
  },
  {
   "cell_type": "code",
   "execution_count": 1,
   "metadata": {
    "collapsed": false,
    "deletable": true,
    "editable": true
   },
   "outputs": [],
   "source": [
    "import bsym"
   ]
  },
  {
   "cell_type": "code",
   "execution_count": 8,
   "metadata": {
    "collapsed": false
   },
   "outputs": [
    {
     "data": {
      "text/plain": [
       "SymmetryOperation\n",
       "label(---)\n",
       "matrix([[1, 0, 0],\n",
       "        [0, 1, 0],\n",
       "        [0, 0, 1]])"
      ]
     },
     "execution_count": 8,
     "metadata": {},
     "output_type": "execute_result"
    }
   ],
   "source": [
    "e = bsym.SymmetryOperation( [ [ 1, 0, 0 ], [ 0, 1, 0 ], [ 0, 0, 1 ] ] )\n",
    "e"
   ]
  },
  {
   "cell_type": "code",
   "execution_count": 10,
   "metadata": {
    "collapsed": false
   },
   "outputs": [
    {
     "data": {
      "text/plain": [
       "SymmetryOperation\n",
       "label(E)\n",
       "matrix([[1, 0, 0],\n",
       "        [0, 1, 0],\n",
       "        [0, 0, 1]])"
      ]
     },
     "execution_count": 10,
     "metadata": {},
     "output_type": "execute_result"
    }
   ],
   "source": [
    "e.label = 'E'\n",
    "e"
   ]
  },
  {
   "cell_type": "code",
   "execution_count": 12,
   "metadata": {
    "collapsed": false
   },
   "outputs": [
    {
     "ename": "TypeError",
     "evalue": "from_vector() got an unexpected keyword argument 'label'",
     "output_type": "error",
     "traceback": [
      "\u001b[0;31m---------------------------------------------------------------------------\u001b[0m",
      "\u001b[0;31mTypeError\u001b[0m                                 Traceback (most recent call last)",
      "\u001b[0;32m<ipython-input-12-c7e3294eba13>\u001b[0m in \u001b[0;36m<module>\u001b[0;34m()\u001b[0m\n\u001b[0;32m----> 1\u001b[0;31m \u001b[0me\u001b[0m \u001b[0;34m=\u001b[0m \u001b[0mbsym\u001b[0m\u001b[0;34m.\u001b[0m\u001b[0mSymmetryOperation\u001b[0m\u001b[0;34m.\u001b[0m\u001b[0mfrom_vector\u001b[0m\u001b[0;34m(\u001b[0m \u001b[0;34m[\u001b[0m \u001b[0;36m1\u001b[0m\u001b[0;34m,\u001b[0m \u001b[0;36m2\u001b[0m\u001b[0;34m,\u001b[0m \u001b[0;36m3\u001b[0m \u001b[0;34m]\u001b[0m\u001b[0;34m,\u001b[0m \u001b[0mlabel\u001b[0m\u001b[0;34m=\u001b[0m\u001b[0;34m'E'\u001b[0m \u001b[0;34m)\u001b[0m\u001b[0;34m\u001b[0m\u001b[0m\n\u001b[0m\u001b[1;32m      2\u001b[0m \u001b[0me\u001b[0m\u001b[0;34m\u001b[0m\u001b[0m\n",
      "\u001b[0;31mTypeError\u001b[0m: from_vector() got an unexpected keyword argument 'label'"
     ]
    }
   ],
   "source": [
    "e = bsym.SymmetryOperation.from_vector( [ 1, 2, 3 ], label='E' )\n",
    "e"
   ]
  },
  {
   "cell_type": "code",
   "execution_count": null,
   "metadata": {
    "collapsed": true
   },
   "outputs": [],
   "source": []
  }
 ],
 "metadata": {
  "kernelspec": {
   "display_name": "Python 3",
   "language": "python",
   "name": "python3"
  },
  "language_info": {
   "codemirror_mode": {
    "name": "ipython",
    "version": 3
   },
   "file_extension": ".py",
   "mimetype": "text/x-python",
   "name": "python",
   "nbconvert_exporter": "python",
   "pygments_lexer": "ipython3",
   "version": "3.6.1"
  }
 },
 "nbformat": 4,
 "nbformat_minor": 2
}
